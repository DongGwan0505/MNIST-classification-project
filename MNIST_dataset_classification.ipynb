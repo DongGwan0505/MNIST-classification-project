{
  "nbformat": 4,
  "nbformat_minor": 0,
  "metadata": {
    "colab": {
      "provenance": [],
      "authorship_tag": "ABX9TyP356TdPM8D2xrlsJfmPbd/",
      "include_colab_link": true
    },
    "kernelspec": {
      "name": "python3",
      "display_name": "Python 3"
    },
    "language_info": {
      "name": "python"
    }
  },
  "cells": [
    {
      "cell_type": "markdown",
      "metadata": {
        "id": "view-in-github",
        "colab_type": "text"
      },
      "source": [
        "<a href=\"https://colab.research.google.com/github/DongGwan0505/MNIST-classification-project/blob/main/MNIST_dataset_classification.ipynb\" target=\"_parent\"><img src=\"https://colab.research.google.com/assets/colab-badge.svg\" alt=\"Open In Colab\"/></a>"
      ]
    },
    {
      "cell_type": "code",
      "source": [
        "import numpy as np\n",
        "import tensorflow as tf\n",
        "from tensorflow.keras.models import Sequential\n",
        "from tensorflow.keras.layers import Dense, Flatten, Dropout, BatchNormalization\n",
        "from tensorflow.keras.preprocessing.image import ImageDataGenerator\n",
        "from tensorflow.keras.callbacks import ModelCheckpoint, EarlyStopping, ReduceLROnPlateau\n",
        "\n",
        "# 랜덤 시드 고정\n",
        "np.random.seed(42)\n",
        "tf.random.set_seed(42)"
      ],
      "metadata": {
        "id": "RFRt3M17X2pJ"
      },
      "execution_count": null,
      "outputs": []
    },
    {
      "cell_type": "code",
      "source": [
        "# ===== 데이터 불러오기 & 전처리 =====\n",
        "mnist = tf.keras.datasets.mnist\n",
        "(x_train_full, y_train_full), (x_test, y_test) = mnist.load_data()\n",
        "\n",
        "x_valid, x_train = x_train_full[:10000] / 255.0, x_train_full[10000:] / 255.0\n",
        "y_valid, y_train = y_train_full[:10000], y_train_full[10000:]\n",
        "x_test = x_test / 255.0"
      ],
      "metadata": {
        "id": "2tOg8776X5Xj"
      },
      "execution_count": null,
      "outputs": []
    },
    {
      "cell_type": "code",
      "source": [
        "# ===== 데이터 증강 설정 =====\n",
        "datagen = ImageDataGenerator(\n",
        "    rotation_range=10,      # 회전\n",
        "    zoom_range=0.1,         # 확대/축소\n",
        "    width_shift_range=0.1,  # 가로 이동\n",
        "    height_shift_range=0.1  # 세로 이동\n",
        ")\n",
        "datagen.fit(x_train)"
      ],
      "metadata": {
        "id": "jFKJCD7BX-j0"
      },
      "execution_count": null,
      "outputs": []
    },
    {
      "cell_type": "code",
      "source": [
        "# ===== 모델 정의 =====\n",
        "def create_model(hidden_nodes=1024):\n",
        "    model = Sequential([\n",
        "        Flatten(input_shape=[28, 28]),\n",
        "        Dense(hidden_nodes, activation=\"relu\", kernel_initializer=\"he_normal\"),\n",
        "        BatchNormalization(),\n",
        "        Dropout(0.3),\n",
        "\n",
        "        Dense(hidden_nodes // 2, activation=\"relu\", kernel_initializer=\"he_normal\"),\n",
        "        BatchNormalization(),\n",
        "        Dropout(0.3),\n",
        "\n",
        "        Dense(10, activation=\"softmax\")\n",
        "    ])\n",
        "    model.compile(\n",
        "        loss=\"sparse_categorical_crossentropy\",\n",
        "        optimizer=\"adam\",  # Adam optimizer\n",
        "        metrics=[\"accuracy\"]\n",
        "    )\n",
        "    return model"
      ],
      "metadata": {
        "id": "6uUdHs8oX-l8"
      },
      "execution_count": null,
      "outputs": []
    },
    {
      "cell_type": "code",
      "source": [
        "# ===== 모델 생성 =====\n",
        "model = create_model(1024)\n",
        "\n",
        "# ===== 콜백 설정 =====\n",
        "checkpoint_cb = ModelCheckpoint(\"best_model.h5\", save_best_only=True)\n",
        "early_stopping_cb = EarlyStopping(patience=10, restore_best_weights=True)\n",
        "reduce_lr_cb = ReduceLROnPlateau(monitor=\"val_loss\", factor=0.5, patience=5, min_lr=1e-4)"
      ],
      "metadata": {
        "id": "yN0pMDLfX-oB"
      },
      "execution_count": null,
      "outputs": []
    },
    {
      "cell_type": "code",
      "source": [
        "# ===== 모델 학습 =====\n",
        "history = model.fit(\n",
        "    datagen.flow(x_train, y_train, batch_size=64),\n",
        "    epochs=100,\n",
        "    validation_data=(x_valid, y_valid),\n",
        "    callbacks=[checkpoint_cb, early_stopping_cb, reduce_lr_cb]\n",
        ")"
      ],
      "metadata": {
        "id": "egvrGSsMX-qI"
      },
      "execution_count": null,
      "outputs": []
    },
    {
      "cell_type": "code",
      "source": [
        "# ===== 최종 평가 =====\n",
        "model.evaluate(x_test, y_test)"
      ],
      "metadata": {
        "id": "cIXPDOD1X-r3"
      },
      "execution_count": null,
      "outputs": []
    }
  ]
}