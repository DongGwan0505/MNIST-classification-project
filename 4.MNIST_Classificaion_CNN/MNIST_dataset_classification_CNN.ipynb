{
  "nbformat": 4,
  "nbformat_minor": 0,
  "metadata": {
    "colab": {
      "provenance": [],
      "authorship_tag": "ABX9TyM9eINO+Zvj87nk1DCr0woZ",
      "include_colab_link": true
    },
    "kernelspec": {
      "name": "python3",
      "display_name": "Python 3"
    },
    "language_info": {
      "name": "python"
    }
  },
  "cells": [
    {
      "cell_type": "markdown",
      "metadata": {
        "id": "view-in-github",
        "colab_type": "text"
      },
      "source": [
        "<a href=\"https://colab.research.google.com/github/DongGwan0505/MNIST-classification-project/blob/main/MNIST_dataset_classification_CNN.ipynb\" target=\"_parent\"><img src=\"https://colab.research.google.com/assets/colab-badge.svg\" alt=\"Open In Colab\"/></a>"
      ]
    },
    {
      "cell_type": "code",
      "execution_count": null,
      "metadata": {
        "id": "v50-NfT0aF6k"
      },
      "outputs": [],
      "source": [
        "#Colab 환경 준비\n",
        "import sys\n",
        "import tensorflow as tf\n",
        "import sklearn\n",
        "\n",
        "print(\"Python:\", sys.version)\n",
        "print(\"TensorFlow:\", tf.__version__)\n",
        "print(\"Scikit-learn:\", sklearn.__version__)\n",
        "\n",
        "if not tf.config.list_physical_devices('GPU'):\n",
        "    print(\"⚠️ GPU가 감지되지 않았습니다. Colab 상단 메뉴에서 `런타임 > 런타임 유형 변경 > GPU` 선택하세요.\")"
      ]
    },
    {
      "cell_type": "code",
      "source": [
        "#라이브러리 불러오기\n",
        "import numpy as np\n",
        "from tensorflow import keras\n",
        "from tensorflow.keras.layers import Conv2D, MaxPooling2D, Dropout, Flatten, Dense, BatchNormalization, GlobalAveragePooling2D\n",
        "from tensorflow.keras.preprocessing.image import ImageDataGenerator\n",
        "from functools import partial"
      ],
      "metadata": {
        "id": "ryq30uk6aPdJ"
      },
      "execution_count": null,
      "outputs": []
    },
    {
      "cell_type": "code",
      "source": [
        "#데이터셋 전처리\n",
        "\n",
        "# MNIST 로드\n",
        "(X_train_full, y_train_full), (X_test, y_test) = keras.datasets.mnist.load_data()\n",
        "\n",
        "X_train, X_valid = X_train_full[:50000], X_train_full[50000:]\n",
        "y_train, y_valid = y_train_full[:50000], y_train_full[50000:]\n",
        "\n",
        "# 정규화\n",
        "X_train, X_valid, X_test = X_train / 255.0, X_valid / 255.0, X_test / 255.0\n",
        "\n",
        "# 차원 추가 (채널=1)\n",
        "X_train = X_train[..., np.newaxis]\n",
        "X_valid = X_valid[..., np.newaxis]\n",
        "X_test  = X_test[..., np.newaxis]\n",
        "\n",
        "# One-hot 인코딩\n",
        "y_train = keras.utils.to_categorical(y_train, 10)\n",
        "y_valid = keras.utils.to_categorical(y_valid, 10)\n",
        "y_test  = keras.utils.to_categorical(y_test, 10)"
      ],
      "metadata": {
        "id": "sw5JZUB3aY1J"
      },
      "execution_count": null,
      "outputs": []
    },
    {
      "cell_type": "code",
      "source": [
        "#데이터 증강\n",
        "datagen = ImageDataGenerator(\n",
        "    rotation_range=10,\n",
        "    width_shift_range=0.1,\n",
        "    height_shift_range=0.1,\n",
        "    zoom_range=0.1\n",
        ")\n",
        "datagen.fit(X_train)"
      ],
      "metadata": {
        "id": "XhVl48B7ah0l"
      },
      "execution_count": null,
      "outputs": []
    },
    {
      "cell_type": "code",
      "source": [
        "#CNN 모델 정의\n",
        "DefaultConv2D = partial(Conv2D, kernel_size=3, padding=\"SAME\", kernel_initializer=\"he_normal\")\n",
        "\n",
        "model = keras.models.Sequential([\n",
        "    DefaultConv2D(filters=64, kernel_size=7, input_shape=[28, 28, 1]),\n",
        "    BatchNormalization(), keras.layers.Activation(\"relu\"),\n",
        "    MaxPooling2D(pool_size=2),\n",
        "\n",
        "    DefaultConv2D(filters=128), BatchNormalization(), keras.layers.Activation(\"relu\"),\n",
        "    DefaultConv2D(filters=128), BatchNormalization(), keras.layers.Activation(\"relu\"),\n",
        "    MaxPooling2D(pool_size=2),\n",
        "\n",
        "    DefaultConv2D(filters=256), BatchNormalization(), keras.layers.Activation(\"relu\"),\n",
        "    DefaultConv2D(filters=256), BatchNormalization(), keras.layers.Activation(\"relu\"),\n",
        "\n",
        "    GlobalAveragePooling2D(),\n",
        "\n",
        "    Dense(128, activation=\"relu\"), Dropout(0.5),\n",
        "    Dense(64, activation=\"relu\"), Dropout(0.5),\n",
        "    Dense(10, activation=\"softmax\")\n",
        "])\n",
        "model.summary()"
      ],
      "metadata": {
        "id": "02-PMGpNapY6"
      },
      "execution_count": null,
      "outputs": []
    },
    {
      "cell_type": "code",
      "source": [
        "#콜백 정의 & 학습\n",
        "checkpoint_cb = keras.callbacks.ModelCheckpoint(\"best_model.keras\", save_best_only=True)\n",
        "early_stopping_cb = keras.callbacks.EarlyStopping(patience=10, restore_best_weights=True)\n",
        "reduce_lr_cb = keras.callbacks.ReduceLROnPlateau(monitor=\"val_loss\", factor=0.5, patience=5, min_lr=1e-5)\n",
        "\n",
        "model.compile(loss=\"categorical_crossentropy\", optimizer=\"nadam\", metrics=[\"accuracy\"])\n",
        "\n",
        "history = model.fit(datagen.flow(X_train, y_train, batch_size=32),\n",
        "                    epochs=100,\n",
        "                    validation_data=(X_valid, y_valid),\n",
        "                    callbacks=[checkpoint_cb, early_stopping_cb, reduce_lr_cb])"
      ],
      "metadata": {
        "id": "0d3cmgBYath3"
      },
      "execution_count": null,
      "outputs": []
    },
    {
      "cell_type": "code",
      "source": [
        "#성능 평가\n",
        "test_loss, test_acc = model.evaluate(X_test, y_test)\n",
        "print(\"✅ 최종 Test Accuracy:\", test_acc)"
      ],
      "metadata": {
        "id": "aCb-3wZEayoe"
      },
      "execution_count": null,
      "outputs": []
    }
  ]
}
